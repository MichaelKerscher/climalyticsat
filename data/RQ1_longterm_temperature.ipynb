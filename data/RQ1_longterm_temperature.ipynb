{
 "cells": [
  {
   "cell_type": "code",
   "execution_count": null,
   "id": "f708ec9d-2e79-42cb-bf2f-b46d71d2ad99",
   "metadata": {},
   "outputs": [],
   "source": [
    "from pyspark.sql import SparkSession\n",
    "\n",
    "spark = SparkSession.builder.master('local[*]').appName('Climalyticsat').getOrCreate()"
   ]
  },
  {
   "cell_type": "code",
   "execution_count": null,
   "id": "8e59558b",
   "metadata": {},
   "outputs": [],
   "source": [
    "spark"
   ]
  },
  {
   "cell_type": "markdown",
   "id": "40eca97c",
   "metadata": {},
   "source": [
    "# Load Data"
   ]
  },
  {
   "cell_type": "code",
   "execution_count": null,
   "id": "017216b3-3e3a-456c-826d-0da030fd8cb9",
   "metadata": {},
   "outputs": [],
   "source": [
    "# Pfade definieren\n",
    "csv_path = \"/home/jovyan/work/climate_all_stations.csv\"\n",
    "parquet_path = \"/home/jovyan/work/parquet/climate_all_stations\""
   ]
  },
  {
   "cell_type": "code",
   "execution_count": null,
   "id": "c749dfae-1ae6-4e07-83da-af206f700da8",
   "metadata": {},
   "outputs": [],
   "source": [
    "# CSV laden\n",
    "df_csv = spark.read \\\n",
    "    .option(\"header\", True) \\\n",
    "    .option(\"inferSchema\", True) \\\n",
    "    .csv(csv_path)"
   ]
  },
  {
   "cell_type": "code",
   "execution_count": null,
   "id": "faf039d7-244d-451e-87fc-c23cb1c49ec5",
   "metadata": {},
   "outputs": [],
   "source": [
    "# Kurzer Check\n",
    "df_csv.printSchema()\n",
    "df_csv.show(5)"
   ]
  },
  {
   "cell_type": "code",
   "execution_count": null,
   "id": "95f23569-34ff-4010-9fb1-6e2fa57816ff",
   "metadata": {},
   "outputs": [],
   "source": [
    "df = spark.read.parquet(\"/home/jovyan/work/parquet/climate_all_stations\")\n",
    "df.printSchema()\n",
    "df.show(5)\n"
   ]
  },
  {
   "cell_type": "code",
   "execution_count": null,
   "id": "b1d96184-4616-4491-aac4-4946ba1f9f71",
   "metadata": {},
   "outputs": [],
   "source": [
    "# Als Parquet speichern\n",
    "df_csv.write.mode(\"overwrite\").parquet(parquet_path)"
   ]
  },
  {
   "cell_type": "code",
   "execution_count": null,
   "id": "9dd9a614-ccdc-4e15-8533-e2e91c525b3e",
   "metadata": {},
   "outputs": [],
   "source": [
    "meta_path = \"/home/jovyan/work/stations_metadata.csv\"\n",
    "\n",
    "stations_meta = spark.read.option(\"header\", True).option(\"inferSchema\", True).csv(meta_path)\n",
    "\n",
    "# umbenennen für Join-Kompatibilität\n",
    "stations_meta = stations_meta.withColumnRenamed(\"id\", \"station_id\") \\\n",
    "                             .withColumnRenamed(\"Höhe [m]\", \"altitude\")\n",
    "\n",
    "stations_meta.select(\"station_id\", \"altitude\").show(5)\n",
    "\n"
   ]
  },
  {
   "cell_type": "code",
   "execution_count": null,
   "id": "b3b7b5d1-f254-4f48-901c-decbd8f7805b",
   "metadata": {},
   "outputs": [],
   "source": [
    "# Klimadaten laden (Parquet)\n",
    "climate_df = spark.read.parquet(\"/home/jovyan/work/parquet/climate_all_stations\")\n",
    "\n",
    "climate_df.printSchema()"
   ]
  },
  {
   "cell_type": "code",
   "execution_count": null,
   "id": "04cc591b-0104-4c5f-8cf2-0198d50ecdd7",
   "metadata": {},
   "outputs": [],
   "source": [
    "# Nur relevante Spalten\n",
    "climate_df = climate_df.select(\"station_id\", \"date\", \"tl_mittel\")\n",
    "\n",
    "# Join mit Höhenmetadaten\n",
    "df_joined = climate_df.join(stations_meta, on=\"station_id\")\n",
    "\n",
    "# Kurzer Check\n",
    "df_joined.select(\"station_id\", \"date\", \"tl_mittel\", \"altitude\").show(5)\n"
   ]
  },
  {
   "cell_type": "code",
   "execution_count": null,
   "id": "935b03c3-0c8c-446a-9747-54939703ade2",
   "metadata": {},
   "outputs": [],
   "source": [
    "from pyspark.sql.functions import when, year, avg, col\n",
    "\n",
    "# Jahr extrahieren\n",
    "df = df_joined.withColumn(\"year\", year(\"date\"))\n",
    "\n",
    "# Höhenzonen definieren\n",
    "df = df.withColumn(\n",
    "    \"elevation_zone\",\n",
    "    when(col(\"altitude\") < 500, \"0–499 m (Lowland)\")\n",
    "    .when(col(\"altitude\") < 1000, \"500–999 m (Upland)\")\n",
    "    .when(col(\"altitude\") < 1500, \"1000–1499 m (Lower Alps)\")\n",
    "    .when(col(\"altitude\") < 2000, \"1500–1999 m (Alpine)\")\n",
    "    .otherwise(\"2000+ m (High Alpine)\")\n",
    ")\n",
    "\n",
    "# Temperaturmittel je Jahr & Höhenzone\n",
    "df_avg = df.groupBy(\"year\", \"elevation_zone\") \\\n",
    "           .agg(avg(\"tl_mittel\").alias(\"mean_temp\")) \\\n",
    "           .orderBy(\"year\", \"elevation_zone\")\n",
    "\n",
    "df_avg.show(10, truncate=False)\n"
   ]
  },
  {
   "cell_type": "code",
   "execution_count": null,
   "id": "709f2b64-8ecf-4a9c-8fff-66115bbe6d7c",
   "metadata": {},
   "outputs": [],
   "source": [
    "stations_meta = stations_meta.withColumnRenamed(\"Bundesland\", \"bundesland\")\n",
    "\n",
    "# Mitteltemperatur nach Jahr, Höhenzone und Bundesland\n",
    "df_avg = df.groupBy(\"year\", \"elevation_zone\", \"bundesland\") \\\n",
    "           .agg(avg(\"tl_mittel\").alias(\"mean_temp\")) \\\n",
    "           .orderBy(\"elevation_zone\", \"bundesland\", \"year\")\n",
    "\n",
    "df_avg.show(10, truncate=False)\n"
   ]
  },
  {
   "cell_type": "code",
   "execution_count": null,
   "id": "8c609448-3b24-4639-ac36-4818928c6942",
   "metadata": {},
   "outputs": [],
   "source": [
    "import matplotlib.pyplot as plt\n",
    "import pandas as pd\n",
    "\n",
    "# Daten nach Pandas konvertieren\n",
    "df_pd = df_avg.toPandas()\n",
    "\n",
    "# Jahreszahl als int (optional)\n",
    "df_pd[\"year\"] = df_pd[\"year\"].astype(int)\n",
    "\n",
    "# Nach Höhenzonen gruppieren\n",
    "zones = df_pd[\"elevation_zone\"].unique()\n",
    "\n",
    "# Diagramm pro Höhenzone\n",
    "for zone in sorted(zones):\n",
    "    plt.figure(figsize=(10, 6))\n",
    "    subset = df_pd[df_pd[\"elevation_zone\"] == zone]\n",
    "\n",
    "    for bundesland in subset[\"bundesland\"].unique():\n",
    "        region_data = subset[subset[\"bundesland\"] == bundesland]\n",
    "        plt.plot(region_data[\"year\"], region_data[\"mean_temp\"], label=bundesland)\n",
    "\n",
    "    plt.title(f\"Temperaturtrend – {zone}\")\n",
    "    plt.xlabel(\"Jahr\")\n",
    "    plt.ylabel(\"Durchschnittstemperatur (°C)\")\n",
    "    plt.legend(loc=\"upper left\", fontsize=\"small\")\n",
    "    plt.grid(True)\n",
    "    plt.tight_layout()\n",
    "    plt.show()\n"
   ]
  },
  {
   "cell_type": "code",
   "execution_count": null,
   "id": "3c783539-7257-448a-afd3-c6542d08287c",
   "metadata": {},
   "outputs": [],
   "source": [
    "from pyspark.sql.functions import when\n",
    "\n",
    "stations_meta_zones = stations_meta.withColumn(\n",
    "    \"elevation_zone\",\n",
    "    when(col(\"altitude\") < 500, \"0–499 m (Lowland)\")\n",
    "    .when(col(\"altitude\") < 1000, \"500–999 m (Upland)\")\n",
    "    .when(col(\"altitude\") < 1500, \"1000–1499 m (Lower Alps)\")\n",
    "    .when(col(\"altitude\") < 2000, \"1500–1999 m (Alpine)\")\n",
    "    .otherwise(\"2000+ m (High Alpine)\")\n",
    ")\n"
   ]
  },
  {
   "cell_type": "code",
   "execution_count": null,
   "id": "7b527f99-d38a-4ba6-9cb7-79b41a1664da",
   "metadata": {},
   "outputs": [],
   "source": [
    "from pyspark.sql.functions import count, avg, min, max\n",
    "\n",
    "station_stats = stations_meta_zones.groupBy(\"elevation_zone\", \"bundesland\") \\\n",
    "    .agg(\n",
    "        count(\"*\").alias(\"num_stations\"),\n",
    "        avg(\"altitude\").alias(\"avg_altitude\"),\n",
    "        min(\"altitude\").alias(\"min_altitude\"),\n",
    "        max(\"altitude\").alias(\"max_altitude\")\n",
    "    ) \\\n",
    "    .orderBy(\"elevation_zone\", \"bundesland\")\n",
    "\n",
    "station_stats.show(truncate=False)\n"
   ]
  },
  {
   "cell_type": "code",
   "execution_count": null,
   "id": "cf631b20-13ea-4330-a895-64e978237969",
   "metadata": {},
   "outputs": [],
   "source": [
    "pd_stats = station_stats.toPandas()\n",
    "import seaborn as sns\n",
    "import matplotlib.pyplot as plt\n",
    "\n",
    "plt.figure(figsize=(12, 6))\n",
    "sns.barplot(data=pd_stats, x=\"elevation_zone\", y=\"num_stations\", hue=\"bundesland\")\n",
    "plt.title(\"Anzahl Wetterstationen pro Höhenzone und Bundesland\")\n",
    "plt.ylabel(\"Anzahl Stationen\")\n",
    "plt.xticks(rotation=45)\n",
    "plt.tight_layout()\n",
    "plt.show()\n"
   ]
  },
  {
   "cell_type": "code",
   "execution_count": null,
   "id": "5b63deb2-d5f9-4800-97e5-9bc3ebdbfeee",
   "metadata": {},
   "outputs": [],
   "source": [
    "import pandas as pd\n",
    "from pandas.api.types import CategoricalDtype\n",
    "import matplotlib.pyplot as plt\n",
    "import seaborn as sns\n",
    "\n",
    "# Spark → Pandas\n",
    "stations_pd = stations_meta_zones.select(\n",
    "    \"station_id\", \"altitude\", \"elevation_zone\", \"bundesland\", \"Stationsname\"\n",
    ").toPandas()\n",
    "\n",
    "\n",
    "# Sortierbare Höhenzonen\n",
    "zone_order = [\n",
    "    \"0–499 m (Lowland)\",\n",
    "    \"500–999 m (Upland)\",\n",
    "    \"1000–1499 m (Lower Alps)\",\n",
    "    \"1500–1999 m (Alpine)\",\n",
    "    \"2000+ m (High Alpine)\"\n",
    "]\n",
    "\n",
    "# Kategorische Sortierung zuweisen\n",
    "stations_pd[\"elevation_zone\"] = stations_pd[\"elevation_zone\"].astype(\n",
    "    CategoricalDtype(categories=zone_order, ordered=True)\n",
    ")\n",
    "\n",
    "# Plot\n",
    "plt.figure(figsize=(12, 6))\n",
    "sns.stripplot(\n",
    "    data=stations_pd,\n",
    "    x=\"elevation_zone\",\n",
    "    y=\"altitude\",\n",
    "    hue=\"bundesland\",\n",
    "    dodge=True,\n",
    "    jitter=0.3,\n",
    "    alpha=0.8,\n",
    "    marker=\"o\"\n",
    ")\n",
    "\n",
    "plt.title(\"Höhenverteilung der Wetterstationen pro Höhenzone (farbig nach Bundesland)\")\n",
    "plt.xlabel(\"Höhenzone\")\n",
    "plt.ylabel(\"Höhe der Station (m)\")\n",
    "plt.xticks(rotation=15)\n",
    "plt.grid(True, linestyle=\"--\", alpha=0.5)\n",
    "plt.legend(title=\"Bundesland\", bbox_to_anchor=(1.05, 1), loc=\"upper left\")\n",
    "plt.tight_layout()\n",
    "plt.show()\n"
   ]
  },
  {
   "cell_type": "code",
   "execution_count": null,
   "id": "a1bb22ce-84ad-416a-8675-69e40e7b2d11",
   "metadata": {},
   "outputs": [],
   "source": [
    "\n",
    "# Nur alpine Höhenzonen\n",
    "zone_order = [\"1500–1999 m (Alpine)\", \"2000+ m (High Alpine)\"]\n",
    "\n",
    "stations_pd[\"elevation_zone\"] = stations_pd[\"elevation_zone\"].astype(\n",
    "    CategoricalDtype(categories=zone_order, ordered=True)\n",
    ")\n",
    "\n",
    "stations_subset = stations_pd[stations_pd[\"elevation_zone\"].isin(zone_order)].copy()\n",
    "\n",
    "# Höchste Stationen je Höhenzone & Bundesland\n",
    "top_stations = (\n",
    "    stations_subset[stations_subset[\"altitude\"].notna()]\n",
    "    .sort_values(\"altitude\", ascending=False)\n",
    "    .groupby([\"elevation_zone\", \"bundesland\"], as_index=False)\n",
    "    .first()\n",
    ")\n",
    "\n",
    "top_stations\n"
   ]
  },
  {
   "cell_type": "code",
   "execution_count": null,
   "id": "71b1ef99-75e2-4db3-96cd-ca85a51b3c5d",
   "metadata": {},
   "outputs": [],
   "source": [
    "print(stations_pd.columns)\n"
   ]
  },
  {
   "cell_type": "code",
   "execution_count": null,
   "id": "f2a0cbd8-805c-4e99-b843-ff5121655398",
   "metadata": {},
   "outputs": [],
   "source": [
    "stations_name_pd = stations_meta.select(\"station_id\", \"Stationsname\").toPandas()\n",
    "top_stations = top_stations.drop(columns=[\"Stationsname\"], errors=\"ignore\")\n",
    "top_stations = top_stations.merge(stations_name_pd, on=\"station_id\", how=\"left\")\n",
    "\n",
    "top_stations_clean = top_stations.dropna(subset=[\"elevation_zone\", \"altitude\", \"Stationsname\"])\n",
    "\n",
    "plt.figure(figsize=(12, 6))\n",
    "\n",
    "sns.stripplot(\n",
    "    data=stations_subset,\n",
    "    x=\"elevation_zone\",\n",
    "    y=\"altitude\",\n",
    "    hue=\"bundesland\",\n",
    "    jitter=0.3,\n",
    "    dodge=True,\n",
    "    alpha=0.8,\n",
    "    marker=\"o\"\n",
    ")\n",
    "\n",
    "for i, row in top_stations_clean.iterrows():\n",
    "    offset = 30 if i % 2 == 0 else -40\n",
    "    plt.text(\n",
    "        x=row[\"elevation_zone\"],\n",
    "        y=row[\"altitude\"] + offset,\n",
    "        s=row[\"Stationsname\"],\n",
    "        ha=\"center\",\n",
    "        fontsize=8,\n",
    "        color=\"black\"\n",
    "    )\n",
    "\n",
    "plt.title(\"Messstationen in alpinen Höhenzonen (mit höchster Station je Bundesland)\")\n",
    "plt.xlabel(\"Höhenzone\")\n",
    "plt.ylabel(\"Höhe der Station (m)\")\n",
    "plt.xticks(rotation=15)\n",
    "plt.grid(True, linestyle=\"--\", alpha=0.5)\n",
    "plt.legend(bbox_to_anchor=(1.05, 1), loc=\"upper left\", title=\"Bundesland\")\n",
    "plt.tight_layout()\n",
    "plt.show()"
   ]
  }
 ],
 "metadata": {
  "kernelspec": {
   "display_name": "Python 3 (ipykernel)",
   "language": "python",
   "name": "python3"
  },
  "language_info": {
   "codemirror_mode": {
    "name": "ipython",
    "version": 3
   },
   "file_extension": ".py",
   "mimetype": "text/x-python",
   "name": "python",
   "nbconvert_exporter": "python",
   "pygments_lexer": "ipython3",
   "version": "3.11.6"
  }
 },
 "nbformat": 4,
 "nbformat_minor": 5
}
