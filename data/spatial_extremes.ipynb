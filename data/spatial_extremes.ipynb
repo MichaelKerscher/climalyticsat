{
 "cells": [
  {
   "cell_type": "markdown",
   "id": "593e5aaf",
   "metadata": {},
   "source": [
    "# Spatial Patterns of Extremes"
   ]
  },
  {
   "cell_type": "markdown",
   "id": "bb0e348d",
   "metadata": {},
   "source": [
    "## Imports"
   ]
  },
  {
   "cell_type": "code",
   "execution_count": 22,
   "id": "815ad09b",
   "metadata": {},
   "outputs": [],
   "source": [
    "from pyspark.sql import SparkSession\n",
    "from pyspark.sql.functions import * "
   ]
  },
  {
   "cell_type": "markdown",
   "id": "c30aae6b",
   "metadata": {},
   "source": [
    "## Stop session if needed"
   ]
  },
  {
   "cell_type": "code",
   "execution_count": null,
   "id": "57919677",
   "metadata": {},
   "outputs": [],
   "source": [
    "#spark.stop()"
   ]
  },
  {
   "cell_type": "markdown",
   "id": "665dec5a",
   "metadata": {},
   "source": [
    "## Start Spark session"
   ]
  },
  {
   "cell_type": "code",
   "execution_count": 2,
   "id": "6bfb2b0e",
   "metadata": {},
   "outputs": [
    {
     "name": "stderr",
     "output_type": "stream",
     "text": [
      "25/05/18 18:03:45 WARN Utils: Your hostname, arch-df23 resolves to a loopback address: 127.0.1.1; using 10.0.0.63 instead (on interface wlp2s0)\n",
      "25/05/18 18:03:45 WARN Utils: Set SPARK_LOCAL_IP if you need to bind to another address\n",
      "Setting default log level to \"WARN\".\n",
      "To adjust logging level use sc.setLogLevel(newLevel). For SparkR, use setLogLevel(newLevel).\n",
      "25/05/18 18:03:45 WARN NativeCodeLoader: Unable to load native-hadoop library for your platform... using builtin-java classes where applicable\n",
      "25/05/18 18:03:45 WARN Utils: Service 'SparkUI' could not bind on port 4040. Attempting port 4041.\n"
     ]
    }
   ],
   "source": [
    "spark = SparkSession.builder.master('local[*]').appName('Climalyticsat').config('spark.driver.memory', '8g').config('spark.executor.memory', '8g').getOrCreate()"
   ]
  },
  {
   "cell_type": "markdown",
   "id": "8abb3672",
   "metadata": {},
   "source": [
    "## Load data and write out as Parquet"
   ]
  },
  {
   "cell_type": "markdown",
   "id": "8196e0b3",
   "metadata": {},
   "source": [
    "### Load all station's climate data"
   ]
  },
  {
   "cell_type": "code",
   "execution_count": 3,
   "id": "6c78085b",
   "metadata": {},
   "outputs": [
    {
     "name": "stderr",
     "output_type": "stream",
     "text": [
      "                                                                                \r"
     ]
    }
   ],
   "source": [
    "climate_data = spark.read.csv('climate_all_stations.csv', header=True, inferSchema=True)"
   ]
  },
  {
   "cell_type": "markdown",
   "id": "ea88634e",
   "metadata": {},
   "source": [
    "### Extract a “year” column for efficient time‐based pruning"
   ]
  },
  {
   "cell_type": "code",
   "execution_count": 4,
   "id": "174e7800",
   "metadata": {},
   "outputs": [],
   "source": [
    "# turn string into a proper date, then pull out the year\n",
    "climate_data = (\n",
    "    climate_data\n",
    "      .withColumn('date',   to_date('date', 'yyyy-MM'))\n",
    "      .withColumn('year',   year('date'))\n",
    ")"
   ]
  },
  {
   "cell_type": "markdown",
   "id": "e71d5a58",
   "metadata": {},
   "source": [
    "### Load and join stations metadata"
   ]
  },
  {
   "cell_type": "code",
   "execution_count": 5,
   "id": "8484de06",
   "metadata": {},
   "outputs": [],
   "source": [
    "stations = (\n",
    "    spark.read\n",
    "         .csv('stations_metadata.csv', header=True, inferSchema=True)\n",
    "         .withColumnRenamed('id', 'station_id')\n",
    "         .withColumnRenamed('Höhe [m]', 'elevation')\n",
    "         .select('station_id', 'elevation')\n",
    ")\n",
    "\n",
    "climate = climate_data.join(stations, on='station_id', how='inner')"
   ]
  },
  {
   "cell_type": "markdown",
   "id": "9d2d5a58",
   "metadata": {},
   "source": [
    "#### Bucket elevation into (250m) bands"
   ]
  },
  {
   "cell_type": "code",
   "execution_count": 6,
   "id": "8c21ba60",
   "metadata": {},
   "outputs": [],
   "source": [
    "climate = climate.withColumn(\n",
    "    'elevation_band',\n",
    "    (floor(climate.elevation / 250) * 250).cast('int')  # 0–249m → 0, 250–499m → 250, etc.\n",
    ")"
   ]
  },
  {
   "cell_type": "markdown",
   "id": "a2611cab",
   "metadata": {},
   "source": [
    "### Write out as Parquet, partitioned by year & elevation_band"
   ]
  },
  {
   "cell_type": "code",
   "execution_count": 8,
   "id": "29ae0d96",
   "metadata": {},
   "outputs": [
    {
     "name": "stderr",
     "output_type": "stream",
     "text": [
      "                                                                                \r"
     ]
    }
   ],
   "source": [
    "climate.write.partitionBy('year', 'elevation_band').parquet('extremes_parquet/')"
   ]
  },
  {
   "cell_type": "markdown",
   "id": "1dd3ce49",
   "metadata": {},
   "source": [
    "## RQ2 - Spatial Patterns of Extremes\n",
    "Which geographic zones (valleys, plateaus, alpine corridors) show the largest shifts in “hot days” (≥ 30 °C) and “frost days” (≤ 0 °C) since 1970?"
   ]
  },
  {
   "cell_type": "markdown",
   "id": "ca8a3076",
   "metadata": {},
   "source": [
    "### Load Parquet (qear, elevation_band)"
   ]
  },
  {
   "cell_type": "code",
   "execution_count": 3,
   "id": "7a799207",
   "metadata": {},
   "outputs": [
    {
     "name": "stderr",
     "output_type": "stream",
     "text": [
      "25/05/18 18:03:59 WARN GarbageCollectionMetrics: To enable non-built-in garbage collector(s) List(G1 Concurrent GC), users should configure it(them) to spark.eventLog.gcMetrics.youngGenerationGarbageCollectors or spark.eventLog.gcMetrics.oldGenerationGarbageCollectors\n"
     ]
    }
   ],
   "source": [
    "climate = spark.read.parquet('extremes_parquet/')"
   ]
  },
  {
   "cell_type": "markdown",
   "id": "6624eb16",
   "metadata": {},
   "source": [
    "### Add geogrpahic zones"
   ]
  },
  {
   "cell_type": "code",
   "execution_count": 4,
   "id": "301b0f4d",
   "metadata": {},
   "outputs": [],
   "source": [
    "# needed columns\n",
    "# tage_tropen,Tropentage,\"Zahl der Tropentage,  Tagesmaximum der Lufttemperatur in 2 m Höhe >=30.0°C\",d\n",
    "# tage_frost,Frosttage,\"Zahl der Frosttage, 24-Stunden-Minimalwert der Lufttemperatur in 2m Höhe < 0.0 °C\",d\n",
    "\n",
    "climate = climate.withColumn(\n",
    "    'zone',\n",
    "    when(col('elevation') <= 900,      'valley')\n",
    "   .when((col('elevation') > 900) & (col('elevation') <= 1900), 'plateau')\n",
    "   .otherwise('alpine')\n",
    ")"
   ]
  },
  {
   "cell_type": "markdown",
   "id": "3d6c57d2",
   "metadata": {},
   "source": [
    "### Compute the “shift” since 1970"
   ]
  },
  {
   "cell_type": "markdown",
   "id": "d23bd440",
   "metadata": {},
   "source": [
    "#### End-minus-start difference"
   ]
  },
  {
   "cell_type": "code",
   "execution_count": 16,
   "id": "6c3c971c",
   "metadata": {},
   "outputs": [],
   "source": [
    "# 1) total per station×year\n",
    "zone_year_station = (\n",
    "    climate\n",
    "      .groupBy('zone','station_id','year')\n",
    "      .agg(\n",
    "        _sum('tage_tropen').alias('hot_days'),\n",
    "        _sum('tage_frost').alias('frost_days')\n",
    "      )\n",
    ")\n",
    "\n",
    "# 2) average per zone×year\n",
    "zone_year = (\n",
    "    zone_year_station\n",
    "      .groupBy('zone','year')\n",
    "      .agg(\n",
    "        avg('hot_days' ).alias('hot_days'),\n",
    "        avg('frost_days').alias('frost_days')\n",
    "      )\n",
    ")"
   ]
  },
  {
   "cell_type": "code",
   "execution_count": 17,
   "id": "547988e4",
   "metadata": {},
   "outputs": [],
   "source": [
    "first_decade = (zone_year\n",
    "    .filter(col('year').between(1970,1979))\n",
    "    .groupBy('zone')\n",
    "    .agg(avg('hot_days').alias('hot_70s'),\n",
    "         avg('frost_days').alias('frost_70s'))\n",
    ")\n",
    "\n",
    "last_decade = (zone_year\n",
    "    .filter(col('year').between(2015,2024))\n",
    "    .groupBy('zone')\n",
    "    .agg(avg('hot_days').alias('hot_10s'),\n",
    "         avg('frost_days').alias('frost_10s'))\n",
    ")\n",
    "\n",
    "shift = (first_decade\n",
    "    .join(last_decade, 'zone')\n",
    "    .withColumn('hot_shift',   col('hot_10s')   - col('hot_70s'))\n",
    "    .withColumn('frost_shift', col('frost_10s') - col('frost_70s'))\n",
    ")\n"
   ]
  },
  {
   "cell_type": "code",
   "execution_count": 18,
   "id": "ba53b0bc",
   "metadata": {},
   "outputs": [
    {
     "name": "stderr",
     "output_type": "stream",
     "text": [
      "                                                                                \r"
     ]
    },
    {
     "name": "stdout",
     "output_type": "stream",
     "text": [
      "+-------+------------------+------------------+\n",
      "|zone   |hot_70s           |frost_70s         |\n",
      "+-------+------------------+------------------+\n",
      "|valley |4.451866128141181 |113.27430371447363|\n",
      "|alpine |0.0               |206.5379917317804 |\n",
      "|plateau|0.2779790773992113|153.37116894618572|\n",
      "+-------+------------------+------------------+\n",
      "\n"
     ]
    },
    {
     "name": "stderr",
     "output_type": "stream",
     "text": [
      "                                                                                \r"
     ]
    },
    {
     "name": "stdout",
     "output_type": "stream",
     "text": [
      "+-------+------------------+------------------+\n",
      "|zone   |hot_10s           |frost_10s         |\n",
      "+-------+------------------+------------------+\n",
      "|valley |20.161767036138304|90.94557690649654 |\n",
      "|alpine |0.0               |210.9476900584795 |\n",
      "|plateau|2.5462382999883   |132.24981089856092|\n",
      "+-------+------------------+------------------+\n",
      "\n"
     ]
    },
    {
     "name": "stderr",
     "output_type": "stream",
     "text": [
      "[Stage 47:======================================================> (38 + 1) / 39]\r"
     ]
    },
    {
     "name": "stdout",
     "output_type": "stream",
     "text": [
      "+-------+------------------+------------------+------------------+------------------+------------------+-------------------+\n",
      "|zone   |hot_70s           |hot_10s           |hot_shift         |frost_70s         |frost_10s         |frost_shift        |\n",
      "+-------+------------------+------------------+------------------+------------------+------------------+-------------------+\n",
      "|valley |4.451866128141181 |20.161767036138304|15.709900907997124|113.27430371447363|90.94557690649654 |-22.32872680797709 |\n",
      "|alpine |0.0               |0.0               |0.0               |206.5379917317804 |210.9476900584795 |4.4096983266991    |\n",
      "|plateau|0.2779790773992113|2.5462382999883   |2.268259222589089 |153.37116894618572|132.24981089856092|-21.121358047624796|\n",
      "+-------+------------------+------------------+------------------+------------------+------------------+-------------------+\n",
      "\n"
     ]
    },
    {
     "name": "stderr",
     "output_type": "stream",
     "text": [
      "                                                                                \r"
     ]
    }
   ],
   "source": [
    "# print the per-zone, per-decade averages\n",
    "first_decade.show(truncate=False)\n",
    "last_decade.show(truncate=False)\n",
    "\n",
    "# print the computed shifts\n",
    "shift.select('zone','hot_70s','hot_10s','hot_shift',\n",
    "             'frost_70s','frost_10s','frost_shift') \\\n",
    "     .show(truncate=False)\n"
   ]
  },
  {
   "cell_type": "markdown",
   "id": "921c15ab",
   "metadata": {},
   "source": [
    "### Visualize with matplotlib"
   ]
  },
  {
   "cell_type": "code",
   "execution_count": 19,
   "id": "3b6b448d",
   "metadata": {},
   "outputs": [
    {
     "name": "stderr",
     "output_type": "stream",
     "text": [
      "                                                                                \r"
     ]
    },
    {
     "data": {
      "image/png": "[encoded data removed]",
      "text/plain": [
       "<Figure size 640x480 with 1 Axes>"
      ]
     },
     "metadata": {},
     "output_type": "display_data"
    }
   ],
   "source": [
    "import matplotlib.pyplot as plt\n",
    "\n",
    "shift_pd = shift.toPandas()\n",
    "\n",
    "zones      = shift_pd['zone']\n",
    "hot_shift  = shift_pd['hot_shift']\n",
    "frost_shift= shift_pd['frost_shift']\n",
    "x = range(len(zones))\n",
    "\n",
    "plt.figure()\n",
    "plt.bar([i - 0.2 for i in x], hot_shift,   width=0.4, label='Hot Days Shift')\n",
    "plt.bar([i + 0.2 for i in x], frost_shift, width=0.4, label='Frost Days Shift')\n",
    "plt.xticks(x, zones)\n",
    "plt.xlabel('Zone')\n",
    "plt.ylabel('Change in Average Number of Days')\n",
    "plt.title('Shift in Hot (≥30 °C) & Frost (≤0 °C) Days Since 1970 by Zone')\n",
    "plt.legend()\n",
    "plt.tight_layout()\n",
    "plt.show()\n"
   ]
  },
  {
   "cell_type": "code",
   "execution_count": 23,
   "id": "e1b6959c",
   "metadata": {},
   "outputs": [
    {
     "name": "stderr",
     "output_type": "stream",
     "text": [
      "                                                                                \r"
     ]
    },
    {
     "data": {
      "image/png": "[encoded data removed]",
      "text/plain": [
       "<Figure size 640x480 with 1 Axes>"
      ]
     },
     "metadata": {},
     "output_type": "display_data"
    }
   ],
   "source": [
    "station_counts = (\n",
    "    climate\n",
    "      .select('station_id', 'zone')\n",
    "      .distinct()\n",
    "      .groupBy('zone')\n",
    "      .agg(countDistinct('station_id').alias('num_stations'))\n",
    "      .orderBy('zone')\n",
    ")\n",
    "\n",
    "# 3) Bring to Pandas & plot\n",
    "station_counts_pd = station_counts.toPandas()\n",
    "\n",
    "import matplotlib.pyplot as plt\n",
    "\n",
    "zones  = station_counts_pd['zone']\n",
    "counts = station_counts_pd['num_stations']\n",
    "x      = range(len(zones))\n",
    "\n",
    "plt.figure()\n",
    "plt.bar(x, counts)\n",
    "plt.xticks(x, zones)\n",
    "plt.xlabel('Zone')\n",
    "plt.ylabel('Number of Stations')\n",
    "plt.title('Number of Weather Stations per Zone')\n",
    "plt.tight_layout()\n",
    "plt.show()"
   ]
  }
 ],
 "metadata": {
  "kernelspec": {
   "display_name": ".venv",
   "language": "python",
   "name": "python3"
  },
  "language_info": {
   "codemirror_mode": {
    "name": "ipython",
    "version": 3
   },
   "file_extension": ".py",
   "mimetype": "text/x-python",
   "name": "python",
   "nbconvert_exporter": "python",
   "pygments_lexer": "ipython3",
   "version": "3.13.3"
  }
 },
 "nbformat": 4,
 "nbformat_minor": 5
}
